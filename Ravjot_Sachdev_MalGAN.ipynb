{
 "cells": [
  {
   "cell_type": "markdown",
   "metadata": {},
   "source": [
    "# Ravjot Sachdev\n",
    "## CIS 700 Midterm\n",
    "## Topic 1: Evading Malware Detection\n",
    "## May 23, 2021"
   ]
  },
  {
   "cell_type": "markdown",
   "metadata": {},
   "source": [
    "MalGAN code was downloaded from https://github.com/ZaydH/MalwareGAN. One slight modification was made to allow for Windows compatability."
   ]
  },
  {
   "cell_type": "code",
   "execution_count": 1,
   "metadata": {
    "colab": {
     "base_uri": "https://localhost:8080/"
    },
    "id": "e8ejncnQbZIx",
    "outputId": "9f86efa9-c53f-4de2-f066-638fdb8e9872"
   },
   "outputs": [
    {
     "name": "stdout",
     "output_type": "stream",
     "text": [
      "C:\\Users\\ravsa\\Downloads\\SU\\Spring 2021\\Midterm_Spring_2021\\MalwareGAN\n"
     ]
    }
   ],
   "source": [
    "%cd MalwareGAN"
   ]
  },
  {
   "cell_type": "markdown",
   "metadata": {},
   "source": [
    "First, we install the necessary packages to run the code."
   ]
  },
  {
   "cell_type": "code",
   "execution_count": 2,
   "metadata": {
    "colab": {
     "base_uri": "https://localhost:8080/"
    },
    "id": "H0py51-BbwBu",
    "outputId": "ed340114-cc15-4bb1-c313-f7ccc43c5faa"
   },
   "outputs": [
    {
     "name": "stdout",
     "output_type": "stream",
     "text": [
      "Requirement already satisfied: numpy==1.16.1 in c:\\users\\ravsa\\anaconda3\\envs\\cis-700_midterm\\lib\\site-packages (from -r requirements.txt (line 1)) (1.16.1)\n",
      "Requirement already satisfied: torch>1.2.0 in c:\\users\\ravsa\\anaconda3\\envs\\cis-700_midterm\\lib\\site-packages (from -r requirements.txt (line 2)) (1.8.1)\n",
      "Requirement already satisfied: typing>=3.6.6 in c:\\users\\ravsa\\anaconda3\\envs\\cis-700_midterm\\lib\\site-packages (from -r requirements.txt (line 3)) (3.7.4.3)\n",
      "Requirement already satisfied: scikit_learn>=0.20.2 in c:\\users\\ravsa\\anaconda3\\envs\\cis-700_midterm\\lib\\site-packages (from -r requirements.txt (line 4)) (0.24.2)\n",
      "Requirement already satisfied: typing-extensions in c:\\users\\ravsa\\anaconda3\\envs\\cis-700_midterm\\lib\\site-packages (from torch>1.2.0->-r requirements.txt (line 2)) (3.7.4.3)\n",
      "Requirement already satisfied: scipy>=0.19.1 in c:\\users\\ravsa\\anaconda3\\envs\\cis-700_midterm\\lib\\site-packages (from scikit_learn>=0.20.2->-r requirements.txt (line 4)) (1.5.4)\n",
      "Requirement already satisfied: joblib>=0.11 in c:\\users\\ravsa\\anaconda3\\envs\\cis-700_midterm\\lib\\site-packages (from scikit_learn>=0.20.2->-r requirements.txt (line 4)) (1.0.1)\n",
      "Requirement already satisfied: threadpoolctl>=2.0.0 in c:\\users\\ravsa\\anaconda3\\envs\\cis-700_midterm\\lib\\site-packages (from scikit_learn>=0.20.2->-r requirements.txt (line 4)) (2.1.0)\n"
     ]
    }
   ],
   "source": [
    "!pip install -r \"requirements.txt\""
   ]
  },
  {
   "cell_type": "markdown",
   "metadata": {},
   "source": [
    "We can run the code with the provided trial data. The first file contains the feature vector of a single malicious file, while the second file contains the feature vector of a benign file. For this scenario, we'll use the recommended batch size of 32 and number of epochs of 100."
   ]
  },
  {
   "cell_type": "code",
   "execution_count": 3,
   "metadata": {
    "colab": {
     "base_uri": "https://localhost:8080/"
    },
    "id": "on17tpRgj88C",
    "outputId": "4e99689e-f5f5-4c57-bea8-16a463f7ad94"
   },
   "outputs": [
    {
     "name": "stdout",
     "output_type": "stream",
     "text": [
      "Filename =  logs_2021-05-23-20-59-59.716294.log\n",
      "2021-05-23 20:59:59,717 -- INFO -- ******************* New Run Beginning *****************\n",
      "2021-05-23 20:59:59,717 -- DEBUG -- CUDA: Disabled\n",
      "2021-05-23 20:59:59,717 -- INFO -- main.py 10 32 100 data/trial_mal.npy data/trial_ben.npy\n",
      "2021-05-23 20:59:59,725 -- DEBUG -- Constructing new MalGAN\n",
      "2021-05-23 20:59:59,725 -- DEBUG -- Malware Dimension (M): 128\n",
      "2021-05-23 20:59:59,726 -- DEBUG -- Latent Dimension (Z): 10\n",
      "2021-05-23 20:59:59,726 -- DEBUG -- Test Split Ratio: 0.200\n",
      "2021-05-23 20:59:59,726 -- DEBUG -- Generator Hidden Layer Sizes: [256, 256]\n",
      "2021-05-23 20:59:59,726 -- DEBUG -- Discriminator Hidden Layer Sizes: [256, 256]\n",
      "2021-05-23 20:59:59,727 -- DEBUG -- Blackbox Detector Type: RandomForest\n",
      "2021-05-23 20:59:59,727 -- DEBUG -- Activation Type: LeakyReLU\n",
      "2021-05-23 20:59:59,731 -- DEBUG -- Starting training of blackbox detector of type \"RandomForest\"\n",
      "2021-05-23 20:59:59,874 -- DEBUG -- COMPLETED training of blackbox detector of type \"RandomForest\"\n",
      "2021-05-23 20:59:59,890 -- INFO -- Epoch    Gen Train Loss       Gen Valid Loss     Discrim Train Loss   Best? \n",
      "2021-05-23 20:59:59,890 -- INFO -- ----- -------------------- -------------------- -------------------- -------\n",
      "2021-05-23 21:00:00,774 -- INFO --   1        -7.246E-1            -7.156E-1              1.4490           +   \n",
      "2021-05-23 21:00:01,654 -- INFO --   2        -7.100E-1            -7.071E-1              1.4527               \n",
      "2021-05-23 21:00:02,510 -- INFO --   3        -7.088E-1            -7.124E-1              1.4305               \n",
      "2021-05-23 21:00:03,350 -- INFO --   4        -7.117E-1            -7.095E-1              1.4140               \n",
      "2021-05-23 21:00:04,200 -- INFO --   5        -7.020E-1            -6.938E-1              1.3898               \n",
      "2021-05-23 21:00:05,107 -- INFO --   6        -6.846E-1            -6.743E-1              1.3683               \n",
      "2021-05-23 21:00:05,991 -- INFO --   7        -6.650E-1            -6.549E-1              1.3461               \n",
      "2021-05-23 21:00:06,958 -- INFO --   8        -6.459E-1            -6.374E-1              1.3257               \n",
      "2021-05-23 21:00:07,866 -- INFO --   9        -6.319E-1            -6.244E-1              1.3135               \n",
      "2021-05-23 21:00:08,754 -- INFO --  10        -6.165E-1            -6.088E-1              1.2972               \n",
      "2021-05-23 21:00:09,646 -- INFO --  11        -6.033E-1            -6.017E-1              1.2815               \n",
      "2021-05-23 21:00:10,515 -- INFO --  12        -6.094E-1            -6.160E-1              1.2886               \n",
      "2021-05-23 21:00:11,403 -- INFO --  13        -6.202E-1            -6.289E-1              1.2864               \n",
      "2021-05-23 21:00:12,257 -- INFO --  14        -6.316E-1            -6.361E-1              1.2775               \n",
      "2021-05-23 21:00:13,142 -- INFO --  15        -6.393E-1            -6.414E-1              1.2647               \n",
      "2021-05-23 21:00:14,064 -- INFO --  16        -6.430E-1            -6.472E-1              1.2476               \n",
      "2021-05-23 21:00:14,983 -- INFO --  17        -6.476E-1            -6.551E-1              1.2281               \n",
      "2021-05-23 21:00:15,940 -- INFO --  18        -6.688E-1            -6.835E-1              1.2069               \n",
      "2021-05-23 21:00:16,916 -- INFO --  19        -6.864E-1            -6.908E-1              1.1865               \n",
      "2021-05-23 21:00:17,856 -- INFO --  20        -6.939E-1            -6.966E-1              1.1555               \n",
      "2021-05-23 21:00:18,714 -- INFO --  21        -7.012E-1            -7.063E-1              1.1296               \n",
      "2021-05-23 21:00:19,679 -- INFO --  22        -7.097E-1            -7.124E-1              1.1034               \n",
      "2021-05-23 21:00:20,673 -- INFO --  23        -7.175E-1            -7.282E-1              1.0659           +   \n",
      "2021-05-23 21:00:21,618 -- INFO --  24        -7.380E-1            -7.488E-1              1.0416           +   \n",
      "2021-05-23 21:00:22,591 -- INFO --  25        -7.479E-1            -7.487E-1              1.0046               \n",
      "2021-05-23 21:00:23,545 -- INFO --  26        -7.487E-1            -7.514E-1              0.9782           +   \n",
      "2021-05-23 21:00:24,490 -- INFO --  27        -7.553E-1            -7.589E-1              0.9381           +   \n",
      "2021-05-23 21:00:25,484 -- INFO --  28        -7.637E-1            -7.722E-1              0.9009           +   \n",
      "2021-05-23 21:00:26,478 -- INFO --  29        -7.741E-1            -7.828E-1              0.8665           +   \n",
      "2021-05-23 21:00:27,511 -- INFO --  30        -7.855E-1            -7.938E-1              0.8320           +   \n",
      "2021-05-23 21:00:28,533 -- INFO --  31        -8.000E-1            -8.328E-1              0.7984           +   \n",
      "2021-05-23 21:00:29,567 -- INFO --  32        -8.491E-1            -8.649E-1              0.7803           +   \n",
      "2021-05-23 21:00:30,558 -- INFO --  33        -8.660E-1            -8.730E-1              0.7543           +   \n",
      "2021-05-23 21:00:31,561 -- INFO --  34        -8.884E-1            -8.846E-1              0.7340           +   \n",
      "2021-05-23 21:00:32,547 -- INFO --  35        -8.890E-1            -8.838E-1              0.7035               \n",
      "2021-05-23 21:00:33,501 -- INFO --  36        -8.854E-1            -8.861E-1              0.6672           +   \n",
      "2021-05-23 21:00:34,480 -- INFO --  37        -8.905E-1            -8.976E-1              0.6458           +   \n",
      "2021-05-23 21:00:35,489 -- INFO --  38        -9.106E-1            -9.341E-1              0.6199           +   \n",
      "2021-05-23 21:00:36,491 -- INFO --  39        -9.309E-1            -9.146E-1              0.6190               \n",
      "2021-05-23 21:00:37,469 -- INFO --  40        -9.147E-1            -9.088E-1              0.5803               \n",
      "2021-05-23 21:00:38,498 -- INFO --  41        -9.160E-1            -9.212E-1              0.5685               \n",
      "2021-05-23 21:00:39,433 -- INFO --  42        -9.399E-1            -9.481E-1              0.5541           +   \n",
      "2021-05-23 21:00:40,413 -- INFO --  43        -9.647E-1            -9.753E-1              0.5442           +   \n",
      "2021-05-23 21:00:41,332 -- INFO --  44        -9.694E-1            -9.396E-1              0.5618               \n",
      "2021-05-23 21:00:42,343 -- INFO --  45        -9.442E-1            -9.315E-1              0.5342               \n",
      "2021-05-23 21:00:43,328 -- INFO --  46        -9.302E-1            -9.232E-1              0.5219               \n",
      "2021-05-23 21:00:44,286 -- INFO --  47        -9.201E-1            -9.096E-1              0.5138               \n",
      "2021-05-23 21:00:45,201 -- INFO --  48        -9.175E-1            -9.286E-1              0.4723               \n",
      "2021-05-23 21:00:46,072 -- INFO --  49        -9.210E-1            -9.144E-1              0.5010               \n",
      "2021-05-23 21:00:46,914 -- INFO --  50        -9.492E-1            -9.418E-1              0.5015               \n",
      "2021-05-23 21:00:47,760 -- INFO --  51        -9.332E-1            -8.726E-1              0.6027               \n",
      "2021-05-23 21:00:48,611 -- INFO --  52        -8.135E-1            -7.443E-1              0.6690               \n",
      "2021-05-23 21:00:49,453 -- INFO --  53        -7.489E-1            -7.481E-1              0.5509               \n",
      "2021-05-23 21:00:50,277 -- INFO --  54        -7.830E-1            -8.081E-1              0.4978               \n",
      "2021-05-23 21:00:51,168 -- INFO --  55        -8.099E-1            -7.957E-1              0.5500               \n",
      "2021-05-23 21:00:52,014 -- INFO --  56        -7.941E-1            -7.679E-1              0.5640               \n",
      "2021-05-23 21:00:52,894 -- INFO --  57        -7.651E-1            -7.704E-1              0.5631               \n",
      "2021-05-23 21:00:53,774 -- INFO --  58        -7.824E-1            -7.637E-1              0.5593               \n",
      "2021-05-23 21:00:54,663 -- INFO --  59        -7.551E-1            -7.292E-1              0.5657               \n",
      "2021-05-23 21:00:55,505 -- INFO --  60        -7.246E-1            -7.007E-1              0.5324               \n",
      "2021-05-23 21:00:56,340 -- INFO --  61        -7.209E-1            -7.495E-1              0.5310               \n",
      "2021-05-23 21:00:57,173 -- INFO --  62        -7.764E-1            -7.748E-1              0.5197               \n",
      "2021-05-23 21:00:58,046 -- INFO --  63        -8.141E-1            -8.514E-1              0.4712               \n",
      "2021-05-23 21:00:58,936 -- INFO --  64        -8.642E-1            -8.590E-1              0.4799               \n",
      "2021-05-23 21:00:59,847 -- INFO --  65        -8.742E-1            -8.950E-1              0.4421               \n",
      "2021-05-23 21:01:00,717 -- INFO --  66        -9.278E-1            -9.257E-1              0.4858               \n",
      "2021-05-23 21:01:01,606 -- INFO --  67        -9.145E-1            -8.735E-1              0.4941               \n",
      "2021-05-23 21:01:02,492 -- INFO --  68        -8.853E-1            -8.814E-1              0.5023               \n",
      "2021-05-23 21:01:03,396 -- INFO --  69        -8.411E-1            -8.021E-1              0.5027               \n",
      "2021-05-23 21:01:04,327 -- INFO --  70        -8.078E-1            -8.051E-1              0.4868               \n",
      "2021-05-23 21:01:05,223 -- INFO --  71        -8.167E-1            -7.888E-1              0.4705               \n",
      "2021-05-23 21:01:06,068 -- INFO --  72        -8.499E-1            -8.431E-1              0.4058               \n",
      "2021-05-23 21:01:06,960 -- INFO --  73        -8.631E-1            -8.795E-1              0.4135               \n",
      "2021-05-23 21:01:07,820 -- INFO --  74        -8.959E-1            -9.273E-1              0.3787               \n",
      "2021-05-23 21:01:08,688 -- INFO --  75        -9.703E-1            -9.902E-1              0.3482           +   \n",
      "2021-05-23 21:01:09,537 -- INFO --  76        -9.844E-1            -9.816E-1              0.3572               \n",
      "2021-05-23 21:01:10,400 -- INFO --  77        -9.831E-1            -9.807E-1              0.3247               \n",
      "2021-05-23 21:01:11,262 -- INFO --  78        -1.009E+0            -1.043E+0              0.3195           +   \n",
      "2021-05-23 21:01:12,116 -- INFO --  79        -1.058E+0            -1.034E+0              0.3565               \n",
      "2021-05-23 21:01:13,005 -- INFO --  80        -1.045E+0            -1.034E+0              0.3455               \n",
      "2021-05-23 21:01:13,873 -- INFO --  81        -1.030E+0            -1.019E+0              0.3140               \n",
      "2021-05-23 21:01:14,740 -- INFO --  82        -1.044E+0            -1.019E+0              0.3176               \n",
      "2021-05-23 21:01:15,629 -- INFO --  83        -1.017E+0            -1.062E+0              0.3352           +   \n",
      "2021-05-23 21:01:16,495 -- INFO --  84        -1.058E+0            -1.035E+0              0.3159               \n",
      "2021-05-23 21:01:17,356 -- INFO --  85        -1.033E+0            -1.031E+0              0.3058               \n",
      "2021-05-23 21:01:18,177 -- INFO --  86        -9.947E-1            -9.372E-1              0.4230               \n",
      "2021-05-23 21:01:19,055 -- INFO --  87        -9.156E-1            -8.930E-1              0.4011               \n",
      "2021-05-23 21:01:19,926 -- INFO --  88        -8.957E-1            -8.624E-1              0.3677               \n",
      "2021-05-23 21:01:20,775 -- INFO --  89        -8.558E-1            -8.307E-1              0.3918               \n",
      "2021-05-23 21:01:21,622 -- INFO --  90        -8.357E-1            -8.187E-1              0.3881               \n",
      "2021-05-23 21:01:22,472 -- INFO --  91        -8.083E-1            -7.896E-1              0.3749               \n",
      "2021-05-23 21:01:23,334 -- INFO --  92        -8.018E-1            -7.931E-1              0.3594               \n",
      "2021-05-23 21:01:24,195 -- INFO --  93        -7.924E-1            -7.460E-1              0.4512               \n",
      "2021-05-23 21:01:25,124 -- INFO --  94        -7.257E-1            -6.944E-1              0.4021               \n",
      "2021-05-23 21:01:26,001 -- INFO --  95        -6.921E-1            -6.649E-1              0.4403               \n",
      "2021-05-23 21:01:26,928 -- INFO --  96        -6.501E-1            -6.267E-1              0.4002               \n",
      "2021-05-23 21:01:27,877 -- INFO --  97        -6.335E-1            -6.130E-1              0.4017               \n",
      "2021-05-23 21:01:28,720 -- INFO --  98        -6.123E-1            -5.876E-1              0.4085               \n",
      "2021-05-23 21:01:29,568 -- INFO --  99        -5.805E-1            -5.706E-1              0.4115               \n",
      "2021-05-23 21:01:30,390 -- INFO --  100       -5.688E-1            -5.577E-1              0.3963               \n",
      "2021-05-23 21:01:30,430 -- DEBUG -- Final Validation Loss: -1.062282\n",
      "2021-05-23 21:01:30,430 -- DEBUG -- Final Test Loss: -1.081205\n",
      "2021-05-23 21:01:30,553 -- DEBUG -- Avg. Malware Bits Changed Changed: 19.725275\n"
     ]
    },
    {
     "name": "stderr",
     "output_type": "stream",
     "text": [
      "Traceback (most recent call last):\n",
      "  File \"main.py\", line 152, in <module>\n",
      "    main()\n",
      "  File \"main.py\", line 146, in main\n",
      "    results = malgan.measure_and_export_results()\n",
      "  File \"C:\\Users\\ravsa\\Downloads\\SU\\Spring 2021\\Midterm_Spring_2021\\MalwareGAN\\malgan\\__init__.py\", line 409, in measure_and_export_results\n",
      "    y_mal_orig, y_prob, y_hat_post)\n",
      "  File \"C:\\Users\\ravsa\\Downloads\\SU\\Spring 2021\\Midterm_Spring_2021\\MalwareGAN\\malgan\\_export_results.py\", line 38, in _export_results\n",
      "    with open(results_file, \"a+\") as f_out:\n",
      "PermissionError: [Errno 13] Permission denied: 'results.csv'\n"
     ]
    }
   ],
   "source": [
    "!python main.py 10 32 100 data/trial_mal.npy data/trial_ben.npy"
   ]
  },
  {
   "cell_type": "code",
   "execution_count": 4,
   "metadata": {},
   "outputs": [
    {
     "name": "stdout",
     "output_type": "stream",
     "text": [
      "Requirement already satisfied: pandas in c:\\users\\ravsa\\anaconda3\\envs\\cis-700_midterm\\lib\\site-packages (1.2.4)\n",
      "Requirement already satisfied: pytz>=2017.3 in c:\\users\\ravsa\\anaconda3\\envs\\cis-700_midterm\\lib\\site-packages (from pandas) (2021.1)\n",
      "Collecting numpy>=1.16.5\n",
      "  Using cached numpy-1.20.3-cp37-cp37m-win_amd64.whl (13.6 MB)\n",
      "Requirement already satisfied: python-dateutil>=2.7.3 in c:\\users\\ravsa\\appdata\\roaming\\python\\python37\\site-packages (from pandas) (2.8.1)\n",
      "Requirement already satisfied: six>=1.5 in c:\\users\\ravsa\\appdata\\roaming\\python\\python37\\site-packages (from python-dateutil>=2.7.3->pandas) (1.15.0)\n",
      "Installing collected packages: numpy\n",
      "  Attempting uninstall: numpy\n",
      "    Found existing installation: numpy 1.16.1\n",
      "    Uninstalling numpy-1.16.1:\n",
      "      Successfully uninstalled numpy-1.16.1\n",
      "Successfully installed numpy-1.20.3\n"
     ]
    },
    {
     "data": {
      "text/html": [
       "<div>\n",
       "<style scoped>\n",
       "    .dataframe tbody tr th:only-of-type {\n",
       "        vertical-align: middle;\n",
       "    }\n",
       "\n",
       "    .dataframe tbody tr th {\n",
       "        vertical-align: top;\n",
       "    }\n",
       "\n",
       "    .dataframe thead th {\n",
       "        text-align: right;\n",
       "    }\n",
       "</style>\n",
       "<table border=\"1\" class=\"dataframe\">\n",
       "  <thead>\n",
       "    <tr style=\"text-align: right;\">\n",
       "      <th></th>\n",
       "      <th>time_completed</th>\n",
       "      <th>M</th>\n",
       "      <th>Z</th>\n",
       "      <th>batch_size</th>\n",
       "      <th>test_set_size</th>\n",
       "      <th>detector_type</th>\n",
       "      <th>activation</th>\n",
       "      <th>gen_hidden_dim</th>\n",
       "      <th>discim_hidden_dim</th>\n",
       "      <th>avg_validation_loss</th>\n",
       "      <th>avg_test_loss</th>\n",
       "      <th>avg_num_bits_changed</th>\n",
       "      <th>auc</th>\n",
       "      <th>orig_mal_detect_rate</th>\n",
       "      <th>mod_mal_detect_rate</th>\n",
       "      <th>ben_mal_detect_rate</th>\n",
       "    </tr>\n",
       "  </thead>\n",
       "  <tbody>\n",
       "    <tr>\n",
       "      <th>0</th>\n",
       "      <td>2021-05-23 20:45:10.090726</td>\n",
       "      <td>128</td>\n",
       "      <td>10</td>\n",
       "      <td>32</td>\n",
       "      <td>361</td>\n",
       "      <td>RandomForest</td>\n",
       "      <td>LeakyReLU</td>\n",
       "      <td>[256, 256]</td>\n",
       "      <td>[256, 256]</td>\n",
       "      <td>-1.146592</td>\n",
       "      <td>-1.178672</td>\n",
       "      <td>25.322</td>\n",
       "      <td>0.902160</td>\n",
       "      <td>0.981685</td>\n",
       "      <td>0.604396</td>\n",
       "      <td>0.102273</td>\n",
       "    </tr>\n",
       "    <tr>\n",
       "      <th>1</th>\n",
       "      <td>2021-05-23 20:48:47.292262</td>\n",
       "      <td>128</td>\n",
       "      <td>10</td>\n",
       "      <td>32</td>\n",
       "      <td>361</td>\n",
       "      <td>RandomForest</td>\n",
       "      <td>LeakyReLU</td>\n",
       "      <td>[256, 256]</td>\n",
       "      <td>[256, 256]</td>\n",
       "      <td>-1.139809</td>\n",
       "      <td>-1.039155</td>\n",
       "      <td>24.985</td>\n",
       "      <td>0.940185</td>\n",
       "      <td>0.989011</td>\n",
       "      <td>0.604396</td>\n",
       "      <td>0.090909</td>\n",
       "    </tr>\n",
       "  </tbody>\n",
       "</table>\n",
       "</div>"
      ],
      "text/plain": [
       "               time_completed    M   Z  batch_size  test_set_size  \\\n",
       "0  2021-05-23 20:45:10.090726  128  10          32            361   \n",
       "1  2021-05-23 20:48:47.292262  128  10          32            361   \n",
       "\n",
       "  detector_type activation gen_hidden_dim discim_hidden_dim  \\\n",
       "0  RandomForest  LeakyReLU     [256, 256]        [256, 256]   \n",
       "1  RandomForest  LeakyReLU     [256, 256]        [256, 256]   \n",
       "\n",
       "   avg_validation_loss  avg_test_loss  avg_num_bits_changed       auc  \\\n",
       "0            -1.146592      -1.178672                25.322  0.902160   \n",
       "1            -1.139809      -1.039155                24.985  0.940185   \n",
       "\n",
       "   orig_mal_detect_rate  mod_mal_detect_rate  ben_mal_detect_rate  \n",
       "0              0.981685             0.604396             0.102273  \n",
       "1              0.989011             0.604396             0.090909  "
      ]
     },
     "execution_count": 4,
     "metadata": {},
     "output_type": "execute_result"
    }
   ],
   "source": [
    "!pip install pandas\n",
    "import pandas as pd\n",
    "results = pd.read_csv(\"results.csv\")\n",
    "results.head()"
   ]
  },
  {
   "cell_type": "markdown",
   "metadata": {},
   "source": [
    "## Results\n",
    "The CSV file above contains the relevant results. As seen in the final columns, the original detection rate of the malware classifier was above 98%. After running MalGAN and generating adversarial samples, the detection rate fell to just 9%. This shows MalGAN's effectiveness at modifying malicious program to bypass malware detection neural networks. While MalGAN is not the only machine learning model to achieve this goal, its improvements on previous models makes it a great choice to attack such malware detectors."
   ]
  },
  {
   "cell_type": "code",
   "execution_count": null,
   "metadata": {},
   "outputs": [],
   "source": []
  }
 ],
 "metadata": {
  "colab": {
   "collapsed_sections": [],
   "name": "MalGAN.ipynb",
   "provenance": []
  },
  "kernelspec": {
   "display_name": "Python 3",
   "language": "python",
   "name": "python3"
  },
  "language_info": {
   "codemirror_mode": {
    "name": "ipython",
    "version": 3
   },
   "file_extension": ".py",
   "mimetype": "text/x-python",
   "name": "python",
   "nbconvert_exporter": "python",
   "pygments_lexer": "ipython3",
   "version": "3.7.10"
  }
 },
 "nbformat": 4,
 "nbformat_minor": 1
}
